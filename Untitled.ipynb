{
 "cells": [
  {
   "cell_type": "code",
   "execution_count": 4,
   "metadata": {},
   "outputs": [],
   "source": [
    "import requests\n",
    "from bs4 import BeautifulSoup\n",
    "from selenium import webdriver\n",
    "import signal\n",
    "import csv\n",
    "from selenium.webdriver.common.by import By\n",
    "import os,sys, time, inspect,datetime\n",
    "from selenium.webdriver.support.ui import WebDriverWait\n",
    "from selenium.webdriver.support import expected_conditions as EC\n",
    "from selenium.webdriver.common.by import By\n",
    "from selenium.common.exceptions import TimeoutException\n",
    "from random import randint\n",
    "from selenium.common.exceptions import NoSuchElementException\n",
    "from fake_useragent import UserAgent\n",
    "import shutil\n",
    "from tempfile import NamedTemporaryFile\n",
    "import mysql.connector\n",
    "import json\n",
    "import re\n",
    "import math\n"
   ]
  },
  {
   "cell_type": "code",
   "execution_count": 5,
   "metadata": {},
   "outputs": [],
   "source": [
    "def init_browser(headless=True):\n",
    "    print('+ Init Browser')\n",
    "    options = webdriver.ChromeOptions()\n",
    "    if headless == True:\n",
    "        options.add_argument(\"headless\")\n",
    "    options.add_argument('user-data-dir=./data') #Your google chrome data\n",
    "    browser = webdriver.Chrome(\"./chromedriver\",chrome_options=options)\n",
    "    browser.implicitly_wait(20)\n",
    "    return browser\n",
    "\n",
    "def goto_URL(browser,url):\n",
    "    curr_url = browser.current_url\n",
    "    if curr_url != url:\n",
    "        print('[+] goto :{} | gotoURL'.format(url))\n",
    "        browser.get(url)\n",
    "    else:\n",
    "        print('[-] goto skip | gotoURL')\n",
    "    time.sleep(5)\n",
    "    new_url = browser.current_url\n",
    "    print('[-] youre at this url :{} | before :{} | gotoURL'.format(new_url,curr_url))\n",
    "\n",
    "def add_dbProduct(datas,cHostname,cUsername,cPassword,cDatabase,cPort=\"3306\"):\n",
    "    mydb=mysql.connector.connect(\n",
    "    host=cHostname,\n",
    "    user=cUsername,\n",
    "    passwd=cPassword,\n",
    "    database=cDatabase,\n",
    "    port=cPort\n",
    "    )\n",
    "    mycursor = mydb.cursor()\n",
    "    sql_header = \"INSERT INTO `product_data` (`shop_name`,`data-pid`, `data-cid`, `name`, `url`, `image`, `price`, `status`) VALUES \"\n",
    "    mysql_rows = []\n",
    "    for row in datas:\n",
    "        status = 0\n",
    "        shop_name,data_pid,data_cid,name,price,url,image = row\n",
    "        mysql_rows.append(\"('{}','{}','{}','{}','{}','{}','{}','{}')\".format(shop_name,data_pid,data_cid,name,url,image,price,status))\n",
    "    sql_footer = \" ON DUPLICATE KEY UPDATE `name`=VALUES(`name`),`data-cid`=VALUES(`data-cid`),`url`=VALUES(`url`),`price`=VALUES(`price`)\"\n",
    "    sql_body=','.join(mysql_rows)\n",
    "    sql = sql_header+sql_body+sql_footer\n",
    "    mycursor.execute(sql)\n",
    "    mydb.commit()\n",
    "    print(\"[+] DATA {} record inserted.\".format(mycursor.rowcount))\n",
    "    \n",
    "def get_product_list(browser):\n",
    "    resp = []\n",
    "    print('[+] Load Page | {}'.format(browser.current_url))\n",
    "    while(True):\n",
    "        html = BeautifulSoup(browser.page_source, 'html.parser')\n",
    "        product_list = html.find_all(itemprop=\"itemListElement\")\n",
    "        product_count = len(product_list)\n",
    "        if(product_count > 0):\n",
    "            break\n",
    "        else:\n",
    "            time.sleep(5)\n",
    "            print('[/] Waiting Page Loaded | item count :{}'.format(product_count))\n",
    "    shop_name= html.find(id='shop_name').get('value')\n",
    "    for i, product in enumerate(product_list):\n",
    "        url_str= product.find('a').get('href')\n",
    "        o = urlparse.urlparse(url_str)\n",
    "        url = o.scheme + \"://\" + o.netloc + o.path\n",
    "        data_pid= product.get('data-pid')\n",
    "        data_cid= product.get('data-cid')\n",
    "        image= product.find(itemprop=\"image\").get('src')\n",
    "        name= product.find(class_='name').string.strip()\n",
    "        price_str= product.find(class_='price').string.strip()\n",
    "        price=int(filter(str.isdigit,str(price_str)))\n",
    "        resp.append([shop_name,data_pid,data_cid,name,price,url,image])\n",
    "    print('[+] Jumlah Produk {} | {} Produk Berhasil diambil.'.format(len(product_list),len(resp)))\n",
    "    return resp\n"
   ]
  },
  {
   "cell_type": "code",
   "execution_count": null,
   "metadata": {},
   "outputs": [],
   "source": []
  },
  {
   "cell_type": "code",
   "execution_count": null,
   "metadata": {},
   "outputs": [],
   "source": []
  },
  {
   "cell_type": "code",
   "execution_count": 6,
   "metadata": {},
   "outputs": [],
   "source": [
    "def get_variant(browser):\n",
    "    variant_data = browser.execute_script('return product_variant')\n",
    "    resp={}\n",
    "    for x in variant_data['children']:\n",
    "        stock = x['stock']\n",
    "        price = x['price']\n",
    "        img = x['picture']['original']\n",
    "        id = x['option_ids'][0]\n",
    "        resp[id]={'stock':stock,'price':price,'img':img}\n",
    "    variant_dt = variant_data['variant']\n",
    "    if len(variant_dt) > 0 :\n",
    "        for x in variant_dt[0]['option']:\n",
    "            id = x['id']\n",
    "            value = x['value']\n",
    "            resp[id]['value']=value\n",
    "    return resp\n",
    "def get_video(html):\n",
    "    video_tmp = html.find_all(class_='rvm-video-display--item')\n",
    "    resp = []\n",
    "    for x in video_tmp:\n",
    "        resp.append(x.find('iframe').get('src'))\n",
    "    return '###'.join(resp)\n",
    "\n",
    "def get_page_detail(browser):\n",
    "    html = BeautifulSoup(browser.page_source,'html.parser')\n",
    "    shop_id = html.find(id='shop-id').get('value').strip()\n",
    "    product_id = html.find(id='product-id').get('value').strip()\n",
    "    product_name = html.find(id='product-name').get('value').strip()\n",
    "    product_menu = html.find(id='menu-name').get('value').strip()\n",
    "    product_price = html.find(id='product_price_int').get('value').strip()\n",
    "    product_weight = html.find(id='product-weight-kg').get('value').strip()\n",
    "    product_min_buy = html.find(id='min-order').get('value').strip()\n",
    "    product_description = html.find(itemprop='description').text.strip().replace('\\'','\\\\\\'')\n",
    "    product_img_str = html.find_all(\"div\", {\"class\": re.compile(\"^content-img slick-slide\")})\n",
    "    product_img = '###'.join([img.find('img').get('src') for img in product_img_str])\n",
    "    variant = str(get_variant(browser)).replace('\\'','\\\\\\'')\n",
    "    video = get_video(html)\n",
    "    return product_id,product_img,product_name,product_menu,product_min_buy,product_price,product_description,video,variant,product_weight\n",
    "\n",
    "def add_dbProduct(data,database_table,cHostname,cUsername,cPassword,cDatabase,cPort=\"3306\"):\n",
    "    mydb=mysql.connector.connect(\n",
    "    host=cHostname,\n",
    "    user=cUsername,\n",
    "    passwd=cPassword,\n",
    "    database=cDatabase,\n",
    "    port=cPort\n",
    "    )\n",
    "    mycursor = mydb.cursor()\n",
    "    sql_header = \"\"\"INSERT INTO `{}` (\n",
    "    `data_pid`, \n",
    "    `image`, \n",
    "    `name`, \n",
    "    `etalase`, \n",
    "    `min_buy`, \n",
    "    `price`, \n",
    "    `description`, \n",
    "    `video`, \n",
    "    `variant`, \n",
    "    `weight`) VALUES \"\"\".format(database_table)\n",
    "    mysql_rows = []\n",
    "    product_id,product_img,product_name,product_menu,product_min_buy,product_price,product_description,product_video,product_variant,product_weight = data\n",
    "    mysql_rows.append(\"('%s','%s','%s','%s','%s','%s','%s','%s','%s','%s')\"%(product_id,product_img,product_name,product_menu,product_min_buy,product_price,product_description,product_video,product_variant,product_weight))\n",
    "    sql_footer = \"\"\" ON DUPLICATE KEY UPDATE\n",
    "    `data_pid`=VALUES(`data_pid`), \n",
    "    `image`=VALUES(`image`), \n",
    "    `name`=VALUES(`name`), \n",
    "    `etalase`=VALUES(`etalase`), \n",
    "    `min_buy`=VALUES(`min_buy`), \n",
    "    `price`=VALUES(`price`), \n",
    "    `description`=VALUES(`description`), \n",
    "    `video`=VALUES(`video`), \n",
    "    `variant`=VALUES(`variant`), \n",
    "    `weight`=VALUES(`weight`)\"\"\"\n",
    "    sql_body=','.join(mysql_rows)\n",
    "    sql = sql_header+sql_body+sql_footer\n",
    "    mycursor.execute(sql)\n",
    "    mydb.commit()\n",
    "    print(\"[+] DATA {} record inserted.\".format(mycursor.rowcount))\n",
    "    #UPDATE STATUS # 0 not uploaded # 1 uploaded # -1 removed\n",
    "    updated_status='1'\n",
    "    sql_update = (\"UPDATE %s SET `status`='%s' WHERE `data_pid`='%s'\"%(database_table,updated_status,product_id))\n",
    "    mycursor.execute(sql_update)\n",
    "    mydb.commit()\n",
    "    print(\"[+] Status Updated | {}.\".format(mycursor.rowcount))"
   ]
  },
  {
   "cell_type": "code",
   "execution_count": null,
   "metadata": {},
   "outputs": [],
   "source": []
  },
  {
   "cell_type": "code",
   "execution_count": 34,
   "metadata": {},
   "outputs": [
    {
     "name": "stdout",
     "output_type": "stream",
     "text": [
      "+ Init Browser\n",
      "[+] 316330363-Nillkin Hardcase Frosted Shield Series + Antigores Lenovo K900 Black | https://www.tokopedia.com/gadzilastore/nillkin-hardcase-frosted-shield-series-antigores-lenovo-k900-black\n",
      "[+] goto :https://www.tokopedia.com/gadzilastore/nillkin-hardcase-frosted-shield-series-antigores-lenovo-k900-black | gotoURL\n",
      "[-] youre at this url :https://www.tokopedia.com/gadzilastore/nillkin-hardcase-frosted-shield-series-antigores-lenovo-k900-black | before :https://www.google.com/_/chrome/newtab?ie=UTF-8 | gotoURL\n",
      "[+] DATA 0 record inserted.\n",
      "UPDATE product_detail SET `status`='1' WHERE `data_pid`='316330363'\n",
      "[+] Status Updated | 1.\n",
      "[+] 316330115-NILLKIN Sparkle Case Asus Zenfone 4 (2014) Cover FlipCover Zenfone 4 | https://www.tokopedia.com/gadzilastore/nillkin-sparkle-case-asus-zenfone-4-2014-cover-flipcover-zenfone-4\n",
      "[+] goto :https://www.tokopedia.com/gadzilastore/nillkin-sparkle-case-asus-zenfone-4-2014-cover-flipcover-zenfone-4 | gotoURL\n",
      "[-] youre at this url :https://www.tokopedia.com/gadzilastore/nillkin-sparkle-case-asus-zenfone-4-2014-cover-flipcover-zenfone-4 | before :https://www.tokopedia.com/gadzilastore/nillkin-hardcase-frosted-shield-series-antigores-lenovo-k900-black | gotoURL\n",
      "[+] DATA 0 record inserted.\n",
      "UPDATE product_detail SET `status`='1' WHERE `data_pid`='316330115'\n",
      "[+] Status Updated | 1.\n",
      "[+] 315923902-XIAOMI Mi WiFi Amplifier Repeater 2 Extender USB Wireless 300Mbps | https://www.tokopedia.com/gadzilastore/xiaomi-mi-wifi-amplifier-repeater-2-extender-usb-wireless-300mbps\n",
      "[+] goto :https://www.tokopedia.com/gadzilastore/xiaomi-mi-wifi-amplifier-repeater-2-extender-usb-wireless-300mbps | gotoURL\n",
      "[-] youre at this url :https://www.tokopedia.com/gadzilastore/xiaomi-mi-wifi-amplifier-repeater-2-extender-usb-wireless-300mbps | before :https://www.tokopedia.com/gadzilastore/nillkin-sparkle-case-asus-zenfone-4-2014-cover-flipcover-zenfone-4 | gotoURL\n",
      "[+] DATA 0 record inserted.\n",
      "UPDATE product_detail SET `status`='1' WHERE `data_pid`='315923902'\n",
      "[+] Status Updated | 1.\n",
      "[+] 315920638-Lampu Xiaomi YEELIGHT 2 Smart Color LED Light Wifi Bohlam Warna ORI | https://www.tokopedia.com/gadzilastore/lampu-xiaomi-yeelight-2-smart-color-led-light-wifi-bohlam-warna-ori\n",
      "[+] goto :https://www.tokopedia.com/gadzilastore/lampu-xiaomi-yeelight-2-smart-color-led-light-wifi-bohlam-warna-ori | gotoURL\n",
      "[-] youre at this url :https://www.tokopedia.com/gadzilastore/lampu-xiaomi-yeelight-2-smart-color-led-light-wifi-bohlam-warna-ori | before :https://www.tokopedia.com/gadzilastore/xiaomi-mi-wifi-amplifier-repeater-2-extender-usb-wireless-300mbps | gotoURL\n",
      "[+] DATA 0 record inserted.\n",
      "UPDATE product_detail SET `status`='1' WHERE `data_pid`='315920638'\n",
      "[+] Status Updated | 1.\n",
      "[+] 315110841-Xiaomi MiBand 3 ORI Smart Bracelet Smartwatch Mi band 3 Miband3 | https://www.tokopedia.com/gadzilastore/xiaomi-miband-3-ori-smart-bracelet-smartwatch-mi-band-3-miband3\n",
      "[+] goto :https://www.tokopedia.com/gadzilastore/xiaomi-miband-3-ori-smart-bracelet-smartwatch-mi-band-3-miband3 | gotoURL\n",
      "[-] youre at this url :https://www.tokopedia.com/gadzilastore/xiaomi-miband-3-ori-smart-bracelet-smartwatch-mi-band-3-miband3 | before :https://www.tokopedia.com/gadzilastore/lampu-xiaomi-yeelight-2-smart-color-led-light-wifi-bohlam-warna-ori | gotoURL\n",
      "[+] DATA 0 record inserted.\n",
      "UPDATE product_detail SET `status`='1' WHERE `data_pid`='315110841'\n",
      "[+] Status Updated | 1.\n",
      "[+] 312257929-Headset Earphone Headphone JBL T450 Original Garansi Resmi IMS T 450 | https://www.tokopedia.com/gadzilastore/headset-earphone-headphone-jbl-t450-original-garansi-resmi-ims-t-450-putih\n",
      "[+] goto :https://www.tokopedia.com/gadzilastore/headset-earphone-headphone-jbl-t450-original-garansi-resmi-ims-t-450-putih | gotoURL\n",
      "[-] youre at this url :https://www.tokopedia.com/gadzilastore/headset-earphone-headphone-jbl-t450-original-garansi-resmi-ims-t-450-putih | before :https://www.tokopedia.com/gadzilastore/xiaomi-miband-3-ori-smart-bracelet-smartwatch-mi-band-3-miband3 | gotoURL\n",
      "[+] DATA 0 record inserted.\n",
      "UPDATE product_detail SET `status`='1' WHERE `data_pid`='312257929'\n",
      "[+] Status Updated | 1.\n",
      "[+] 310233452-PEDRO Handbag Clutch Bag LEATHER PORTFOLIO ORIGINAL NEW Tas Pria | https://www.tokopedia.com/gadzilastore/pedro-handbag-clutch-bag-leather-portfolio-original-new-tas-pria\n",
      "[+] goto :https://www.tokopedia.com/gadzilastore/pedro-handbag-clutch-bag-leather-portfolio-original-new-tas-pria | gotoURL\n",
      "[-] youre at this url :https://www.tokopedia.com/gadzilastore/pedro-handbag-clutch-bag-leather-portfolio-original-new-tas-pria | before :https://www.tokopedia.com/gadzilastore/headset-earphone-headphone-jbl-t450-original-garansi-resmi-ims-t-450-putih | gotoURL\n",
      "[+] DATA 0 record inserted.\n",
      "UPDATE product_detail SET `status`='1' WHERE `data_pid`='310233452'\n",
      "[+] Status Updated | 1.\n",
      "[+] 309781889-Powerbank Xiaomi Mi 2 10000mAh FAST CHARGING SILVER GARANSI TAM GROSIR | https://www.tokopedia.com/gadzilastore/powerbank-xiaomi-mi-2-10000mah-fast-charging-silver-garansi-tam-grosir\n",
      "[+] goto :https://www.tokopedia.com/gadzilastore/powerbank-xiaomi-mi-2-10000mah-fast-charging-silver-garansi-tam-grosir | gotoURL\n",
      "[-] youre at this url :https://www.tokopedia.com/gadzilastore/powerbank-xiaomi-mi-2-10000mah-fast-charging-silver-garansi-tam-grosir | before :https://www.tokopedia.com/gadzilastore/pedro-handbag-clutch-bag-leather-portfolio-original-new-tas-pria | gotoURL\n",
      "[+] DATA 0 record inserted.\n",
      "UPDATE product_detail SET `status`='1' WHERE `data_pid`='309781889'\n",
      "[+] Status Updated | 1.\n",
      "[+] 307703300-Xiaomi Mijia Mi ALUMINIUM ROLLERBALL PEN / Pulpen / Bolpen / Ballpoint | https://www.tokopedia.com/gadzilastore/xiaomi-mijia-mi-aluminium-rollerball-pen-pulpen-bolpen-ballpoint-perak\n",
      "[+] goto :https://www.tokopedia.com/gadzilastore/xiaomi-mijia-mi-aluminium-rollerball-pen-pulpen-bolpen-ballpoint-perak | gotoURL\n"
     ]
    },
    {
     "ename": "KeyboardInterrupt",
     "evalue": "",
     "output_type": "error",
     "traceback": [
      "\u001b[0;31m---------------------------------------------------------------------------\u001b[0m",
      "\u001b[0;31mKeyboardInterrupt\u001b[0m                         Traceback (most recent call last)",
      "\u001b[0;32m<ipython-input-34-7b292b9065c9>\u001b[0m in \u001b[0;36m<module>\u001b[0;34m()\u001b[0m\n\u001b[1;32m     28\u001b[0m         \u001b[0madd_dbProduct\u001b[0m\u001b[0;34m(\u001b[0m\u001b[0mresp\u001b[0m\u001b[0;34m,\u001b[0m\u001b[0;34m'product_detail'\u001b[0m\u001b[0;34m,\u001b[0m\u001b[0mhost\u001b[0m\u001b[0;34m,\u001b[0m\u001b[0muser\u001b[0m\u001b[0;34m,\u001b[0m\u001b[0mpasswd\u001b[0m\u001b[0;34m,\u001b[0m\u001b[0mdatabase\u001b[0m\u001b[0;34m,\u001b[0m\u001b[0mport\u001b[0m\u001b[0;34m)\u001b[0m\u001b[0;34m\u001b[0m\u001b[0m\n\u001b[1;32m     29\u001b[0m \u001b[0;34m\u001b[0m\u001b[0m\n\u001b[0;32m---> 30\u001b[0;31m \u001b[0mmain\u001b[0m\u001b[0;34m(\u001b[0m\u001b[0;34m)\u001b[0m\u001b[0;34m\u001b[0m\u001b[0m\n\u001b[0m",
      "\u001b[0;32m<ipython-input-34-7b292b9065c9>\u001b[0m in \u001b[0;36mmain\u001b[0;34m()\u001b[0m\n\u001b[1;32m     24\u001b[0m         \u001b[0mdate\u001b[0m\u001b[0;34m,\u001b[0m\u001b[0mdata_pid\u001b[0m\u001b[0;34m,\u001b[0m\u001b[0mshop_name\u001b[0m\u001b[0;34m,\u001b[0m\u001b[0murl\u001b[0m\u001b[0;34m,\u001b[0m\u001b[0mname\u001b[0m \u001b[0;34m=\u001b[0m \u001b[0mrow\u001b[0m\u001b[0;34m\u001b[0m\u001b[0m\n\u001b[1;32m     25\u001b[0m         \u001b[0;32mprint\u001b[0m\u001b[0;34m(\u001b[0m\u001b[0;34m'[+] {}-{} | {}'\u001b[0m\u001b[0;34m.\u001b[0m\u001b[0mformat\u001b[0m\u001b[0;34m(\u001b[0m\u001b[0mdata_pid\u001b[0m\u001b[0;34m,\u001b[0m\u001b[0mname\u001b[0m\u001b[0;34m,\u001b[0m\u001b[0murl\u001b[0m\u001b[0;34m)\u001b[0m\u001b[0;34m)\u001b[0m\u001b[0;34m\u001b[0m\u001b[0m\n\u001b[0;32m---> 26\u001b[0;31m         \u001b[0mgoto_URL\u001b[0m\u001b[0;34m(\u001b[0m\u001b[0mbrowser\u001b[0m\u001b[0;34m,\u001b[0m\u001b[0murl\u001b[0m\u001b[0;34m)\u001b[0m\u001b[0;34m\u001b[0m\u001b[0m\n\u001b[0m\u001b[1;32m     27\u001b[0m         \u001b[0mresp\u001b[0m \u001b[0;34m=\u001b[0m \u001b[0mget_page_detail\u001b[0m\u001b[0;34m(\u001b[0m\u001b[0mbrowser\u001b[0m\u001b[0;34m)\u001b[0m\u001b[0;34m\u001b[0m\u001b[0m\n\u001b[1;32m     28\u001b[0m         \u001b[0madd_dbProduct\u001b[0m\u001b[0;34m(\u001b[0m\u001b[0mresp\u001b[0m\u001b[0;34m,\u001b[0m\u001b[0;34m'product_detail'\u001b[0m\u001b[0;34m,\u001b[0m\u001b[0mhost\u001b[0m\u001b[0;34m,\u001b[0m\u001b[0muser\u001b[0m\u001b[0;34m,\u001b[0m\u001b[0mpasswd\u001b[0m\u001b[0;34m,\u001b[0m\u001b[0mdatabase\u001b[0m\u001b[0;34m,\u001b[0m\u001b[0mport\u001b[0m\u001b[0;34m)\u001b[0m\u001b[0;34m\u001b[0m\u001b[0m\n",
      "\u001b[0;32m<ipython-input-21-f7ca62f8b38a>\u001b[0m in \u001b[0;36mgoto_URL\u001b[0;34m(browser, url)\u001b[0m\n\u001b[1;32m     13\u001b[0m     \u001b[0;32mif\u001b[0m \u001b[0mcurr_url\u001b[0m \u001b[0;34m!=\u001b[0m \u001b[0murl\u001b[0m\u001b[0;34m:\u001b[0m\u001b[0;34m\u001b[0m\u001b[0m\n\u001b[1;32m     14\u001b[0m         \u001b[0;32mprint\u001b[0m\u001b[0;34m(\u001b[0m\u001b[0;34m'[+] goto :{} | gotoURL'\u001b[0m\u001b[0;34m.\u001b[0m\u001b[0mformat\u001b[0m\u001b[0;34m(\u001b[0m\u001b[0murl\u001b[0m\u001b[0;34m)\u001b[0m\u001b[0;34m)\u001b[0m\u001b[0;34m\u001b[0m\u001b[0m\n\u001b[0;32m---> 15\u001b[0;31m         \u001b[0mbrowser\u001b[0m\u001b[0;34m.\u001b[0m\u001b[0mget\u001b[0m\u001b[0;34m(\u001b[0m\u001b[0murl\u001b[0m\u001b[0;34m)\u001b[0m\u001b[0;34m\u001b[0m\u001b[0m\n\u001b[0m\u001b[1;32m     16\u001b[0m     \u001b[0;32melse\u001b[0m\u001b[0;34m:\u001b[0m\u001b[0;34m\u001b[0m\u001b[0m\n\u001b[1;32m     17\u001b[0m         \u001b[0;32mprint\u001b[0m\u001b[0;34m(\u001b[0m\u001b[0;34m'[-] goto skip | gotoURL'\u001b[0m\u001b[0;34m)\u001b[0m\u001b[0;34m\u001b[0m\u001b[0m\n",
      "\u001b[0;32m/usr/local/lib/python2.7/site-packages/selenium/webdriver/remote/webdriver.pyc\u001b[0m in \u001b[0;36mget\u001b[0;34m(self, url)\u001b[0m\n\u001b[1;32m    330\u001b[0m         \u001b[0mLoads\u001b[0m \u001b[0ma\u001b[0m \u001b[0mweb\u001b[0m \u001b[0mpage\u001b[0m \u001b[0;32min\u001b[0m \u001b[0mthe\u001b[0m \u001b[0mcurrent\u001b[0m \u001b[0mbrowser\u001b[0m \u001b[0msession\u001b[0m\u001b[0;34m.\u001b[0m\u001b[0;34m\u001b[0m\u001b[0m\n\u001b[1;32m    331\u001b[0m         \"\"\"\n\u001b[0;32m--> 332\u001b[0;31m         \u001b[0mself\u001b[0m\u001b[0;34m.\u001b[0m\u001b[0mexecute\u001b[0m\u001b[0;34m(\u001b[0m\u001b[0mCommand\u001b[0m\u001b[0;34m.\u001b[0m\u001b[0mGET\u001b[0m\u001b[0;34m,\u001b[0m \u001b[0;34m{\u001b[0m\u001b[0;34m'url'\u001b[0m\u001b[0;34m:\u001b[0m \u001b[0murl\u001b[0m\u001b[0;34m}\u001b[0m\u001b[0;34m)\u001b[0m\u001b[0;34m\u001b[0m\u001b[0m\n\u001b[0m\u001b[1;32m    333\u001b[0m \u001b[0;34m\u001b[0m\u001b[0m\n\u001b[1;32m    334\u001b[0m     \u001b[0;34m@\u001b[0m\u001b[0mproperty\u001b[0m\u001b[0;34m\u001b[0m\u001b[0m\n",
      "\u001b[0;32m/usr/local/lib/python2.7/site-packages/selenium/webdriver/remote/webdriver.pyc\u001b[0m in \u001b[0;36mexecute\u001b[0;34m(self, driver_command, params)\u001b[0m\n\u001b[1;32m    316\u001b[0m \u001b[0;34m\u001b[0m\u001b[0m\n\u001b[1;32m    317\u001b[0m         \u001b[0mparams\u001b[0m \u001b[0;34m=\u001b[0m \u001b[0mself\u001b[0m\u001b[0;34m.\u001b[0m\u001b[0m_wrap_value\u001b[0m\u001b[0;34m(\u001b[0m\u001b[0mparams\u001b[0m\u001b[0;34m)\u001b[0m\u001b[0;34m\u001b[0m\u001b[0m\n\u001b[0;32m--> 318\u001b[0;31m         \u001b[0mresponse\u001b[0m \u001b[0;34m=\u001b[0m \u001b[0mself\u001b[0m\u001b[0;34m.\u001b[0m\u001b[0mcommand_executor\u001b[0m\u001b[0;34m.\u001b[0m\u001b[0mexecute\u001b[0m\u001b[0;34m(\u001b[0m\u001b[0mdriver_command\u001b[0m\u001b[0;34m,\u001b[0m \u001b[0mparams\u001b[0m\u001b[0;34m)\u001b[0m\u001b[0;34m\u001b[0m\u001b[0m\n\u001b[0m\u001b[1;32m    319\u001b[0m         \u001b[0;32mif\u001b[0m \u001b[0mresponse\u001b[0m\u001b[0;34m:\u001b[0m\u001b[0;34m\u001b[0m\u001b[0m\n\u001b[1;32m    320\u001b[0m             \u001b[0mself\u001b[0m\u001b[0;34m.\u001b[0m\u001b[0merror_handler\u001b[0m\u001b[0;34m.\u001b[0m\u001b[0mcheck_response\u001b[0m\u001b[0;34m(\u001b[0m\u001b[0mresponse\u001b[0m\u001b[0;34m)\u001b[0m\u001b[0;34m\u001b[0m\u001b[0m\n",
      "\u001b[0;32m/usr/local/lib/python2.7/site-packages/selenium/webdriver/remote/remote_connection.pyc\u001b[0m in \u001b[0;36mexecute\u001b[0;34m(self, command, params)\u001b[0m\n\u001b[1;32m    470\u001b[0m         \u001b[0mdata\u001b[0m \u001b[0;34m=\u001b[0m \u001b[0mutils\u001b[0m\u001b[0;34m.\u001b[0m\u001b[0mdump_json\u001b[0m\u001b[0;34m(\u001b[0m\u001b[0mparams\u001b[0m\u001b[0;34m)\u001b[0m\u001b[0;34m\u001b[0m\u001b[0m\n\u001b[1;32m    471\u001b[0m         \u001b[0murl\u001b[0m \u001b[0;34m=\u001b[0m \u001b[0;34m'%s%s'\u001b[0m \u001b[0;34m%\u001b[0m \u001b[0;34m(\u001b[0m\u001b[0mself\u001b[0m\u001b[0;34m.\u001b[0m\u001b[0m_url\u001b[0m\u001b[0;34m,\u001b[0m \u001b[0mpath\u001b[0m\u001b[0;34m)\u001b[0m\u001b[0;34m\u001b[0m\u001b[0m\n\u001b[0;32m--> 472\u001b[0;31m         \u001b[0;32mreturn\u001b[0m \u001b[0mself\u001b[0m\u001b[0;34m.\u001b[0m\u001b[0m_request\u001b[0m\u001b[0;34m(\u001b[0m\u001b[0mcommand_info\u001b[0m\u001b[0;34m[\u001b[0m\u001b[0;36m0\u001b[0m\u001b[0;34m]\u001b[0m\u001b[0;34m,\u001b[0m \u001b[0murl\u001b[0m\u001b[0;34m,\u001b[0m \u001b[0mbody\u001b[0m\u001b[0;34m=\u001b[0m\u001b[0mdata\u001b[0m\u001b[0;34m)\u001b[0m\u001b[0;34m\u001b[0m\u001b[0m\n\u001b[0m\u001b[1;32m    473\u001b[0m \u001b[0;34m\u001b[0m\u001b[0m\n\u001b[1;32m    474\u001b[0m     \u001b[0;32mdef\u001b[0m \u001b[0m_request\u001b[0m\u001b[0;34m(\u001b[0m\u001b[0mself\u001b[0m\u001b[0;34m,\u001b[0m \u001b[0mmethod\u001b[0m\u001b[0;34m,\u001b[0m \u001b[0murl\u001b[0m\u001b[0;34m,\u001b[0m \u001b[0mbody\u001b[0m\u001b[0;34m=\u001b[0m\u001b[0mNone\u001b[0m\u001b[0;34m)\u001b[0m\u001b[0;34m:\u001b[0m\u001b[0;34m\u001b[0m\u001b[0m\n",
      "\u001b[0;32m/usr/local/lib/python2.7/site-packages/selenium/webdriver/remote/remote_connection.pyc\u001b[0m in \u001b[0;36m_request\u001b[0;34m(self, method, url, body)\u001b[0m\n\u001b[1;32m    494\u001b[0m             \u001b[0;32mtry\u001b[0m\u001b[0;34m:\u001b[0m\u001b[0;34m\u001b[0m\u001b[0m\n\u001b[1;32m    495\u001b[0m                 \u001b[0mself\u001b[0m\u001b[0;34m.\u001b[0m\u001b[0m_conn\u001b[0m\u001b[0;34m.\u001b[0m\u001b[0mrequest\u001b[0m\u001b[0;34m(\u001b[0m\u001b[0mmethod\u001b[0m\u001b[0;34m,\u001b[0m \u001b[0mparsed_url\u001b[0m\u001b[0;34m.\u001b[0m\u001b[0mpath\u001b[0m\u001b[0;34m,\u001b[0m \u001b[0mbody\u001b[0m\u001b[0;34m,\u001b[0m \u001b[0mheaders\u001b[0m\u001b[0;34m)\u001b[0m\u001b[0;34m\u001b[0m\u001b[0m\n\u001b[0;32m--> 496\u001b[0;31m                 \u001b[0mresp\u001b[0m \u001b[0;34m=\u001b[0m \u001b[0mself\u001b[0m\u001b[0;34m.\u001b[0m\u001b[0m_conn\u001b[0m\u001b[0;34m.\u001b[0m\u001b[0mgetresponse\u001b[0m\u001b[0;34m(\u001b[0m\u001b[0;34m)\u001b[0m\u001b[0;34m\u001b[0m\u001b[0m\n\u001b[0m\u001b[1;32m    497\u001b[0m             \u001b[0;32mexcept\u001b[0m \u001b[0;34m(\u001b[0m\u001b[0mhttplib\u001b[0m\u001b[0;34m.\u001b[0m\u001b[0mHTTPException\u001b[0m\u001b[0;34m,\u001b[0m \u001b[0msocket\u001b[0m\u001b[0;34m.\u001b[0m\u001b[0merror\u001b[0m\u001b[0;34m)\u001b[0m\u001b[0;34m:\u001b[0m\u001b[0;34m\u001b[0m\u001b[0m\n\u001b[1;32m    498\u001b[0m                 \u001b[0mself\u001b[0m\u001b[0;34m.\u001b[0m\u001b[0m_conn\u001b[0m\u001b[0;34m.\u001b[0m\u001b[0mclose\u001b[0m\u001b[0;34m(\u001b[0m\u001b[0;34m)\u001b[0m\u001b[0;34m\u001b[0m\u001b[0m\n",
      "\u001b[0;32m/usr/local/Cellar/python@2/2.7.15_1/Frameworks/Python.framework/Versions/2.7/lib/python2.7/httplib.pyc\u001b[0m in \u001b[0;36mgetresponse\u001b[0;34m(self, buffering)\u001b[0m\n\u001b[1;32m   1119\u001b[0m \u001b[0;34m\u001b[0m\u001b[0m\n\u001b[1;32m   1120\u001b[0m         \u001b[0;32mtry\u001b[0m\u001b[0;34m:\u001b[0m\u001b[0;34m\u001b[0m\u001b[0m\n\u001b[0;32m-> 1121\u001b[0;31m             \u001b[0mresponse\u001b[0m\u001b[0;34m.\u001b[0m\u001b[0mbegin\u001b[0m\u001b[0;34m(\u001b[0m\u001b[0;34m)\u001b[0m\u001b[0;34m\u001b[0m\u001b[0m\n\u001b[0m\u001b[1;32m   1122\u001b[0m             \u001b[0;32massert\u001b[0m \u001b[0mresponse\u001b[0m\u001b[0;34m.\u001b[0m\u001b[0mwill_close\u001b[0m \u001b[0;34m!=\u001b[0m \u001b[0m_UNKNOWN\u001b[0m\u001b[0;34m\u001b[0m\u001b[0m\n\u001b[1;32m   1123\u001b[0m             \u001b[0mself\u001b[0m\u001b[0;34m.\u001b[0m\u001b[0m__state\u001b[0m \u001b[0;34m=\u001b[0m \u001b[0m_CS_IDLE\u001b[0m\u001b[0;34m\u001b[0m\u001b[0m\n",
      "\u001b[0;32m/usr/local/Cellar/python@2/2.7.15_1/Frameworks/Python.framework/Versions/2.7/lib/python2.7/httplib.pyc\u001b[0m in \u001b[0;36mbegin\u001b[0;34m(self)\u001b[0m\n\u001b[1;32m    436\u001b[0m         \u001b[0;31m# read until we get a non-100 response\u001b[0m\u001b[0;34m\u001b[0m\u001b[0;34m\u001b[0m\u001b[0m\n\u001b[1;32m    437\u001b[0m         \u001b[0;32mwhile\u001b[0m \u001b[0mTrue\u001b[0m\u001b[0;34m:\u001b[0m\u001b[0;34m\u001b[0m\u001b[0m\n\u001b[0;32m--> 438\u001b[0;31m             \u001b[0mversion\u001b[0m\u001b[0;34m,\u001b[0m \u001b[0mstatus\u001b[0m\u001b[0;34m,\u001b[0m \u001b[0mreason\u001b[0m \u001b[0;34m=\u001b[0m \u001b[0mself\u001b[0m\u001b[0;34m.\u001b[0m\u001b[0m_read_status\u001b[0m\u001b[0;34m(\u001b[0m\u001b[0;34m)\u001b[0m\u001b[0;34m\u001b[0m\u001b[0m\n\u001b[0m\u001b[1;32m    439\u001b[0m             \u001b[0;32mif\u001b[0m \u001b[0mstatus\u001b[0m \u001b[0;34m!=\u001b[0m \u001b[0mCONTINUE\u001b[0m\u001b[0;34m:\u001b[0m\u001b[0;34m\u001b[0m\u001b[0m\n\u001b[1;32m    440\u001b[0m                 \u001b[0;32mbreak\u001b[0m\u001b[0;34m\u001b[0m\u001b[0m\n",
      "\u001b[0;32m/usr/local/Cellar/python@2/2.7.15_1/Frameworks/Python.framework/Versions/2.7/lib/python2.7/httplib.pyc\u001b[0m in \u001b[0;36m_read_status\u001b[0;34m(self)\u001b[0m\n\u001b[1;32m    392\u001b[0m     \u001b[0;32mdef\u001b[0m \u001b[0m_read_status\u001b[0m\u001b[0;34m(\u001b[0m\u001b[0mself\u001b[0m\u001b[0;34m)\u001b[0m\u001b[0;34m:\u001b[0m\u001b[0;34m\u001b[0m\u001b[0m\n\u001b[1;32m    393\u001b[0m         \u001b[0;31m# Initialize with Simple-Response defaults\u001b[0m\u001b[0;34m\u001b[0m\u001b[0;34m\u001b[0m\u001b[0m\n\u001b[0;32m--> 394\u001b[0;31m         \u001b[0mline\u001b[0m \u001b[0;34m=\u001b[0m \u001b[0mself\u001b[0m\u001b[0;34m.\u001b[0m\u001b[0mfp\u001b[0m\u001b[0;34m.\u001b[0m\u001b[0mreadline\u001b[0m\u001b[0;34m(\u001b[0m\u001b[0m_MAXLINE\u001b[0m \u001b[0;34m+\u001b[0m \u001b[0;36m1\u001b[0m\u001b[0;34m)\u001b[0m\u001b[0;34m\u001b[0m\u001b[0m\n\u001b[0m\u001b[1;32m    395\u001b[0m         \u001b[0;32mif\u001b[0m \u001b[0mlen\u001b[0m\u001b[0;34m(\u001b[0m\u001b[0mline\u001b[0m\u001b[0;34m)\u001b[0m \u001b[0;34m>\u001b[0m \u001b[0m_MAXLINE\u001b[0m\u001b[0;34m:\u001b[0m\u001b[0;34m\u001b[0m\u001b[0m\n\u001b[1;32m    396\u001b[0m             \u001b[0;32mraise\u001b[0m \u001b[0mLineTooLong\u001b[0m\u001b[0;34m(\u001b[0m\u001b[0;34m\"header line\"\u001b[0m\u001b[0;34m)\u001b[0m\u001b[0;34m\u001b[0m\u001b[0m\n",
      "\u001b[0;32m/usr/local/Cellar/python@2/2.7.15_1/Frameworks/Python.framework/Versions/2.7/lib/python2.7/socket.pyc\u001b[0m in \u001b[0;36mreadline\u001b[0;34m(self, size)\u001b[0m\n\u001b[1;32m    478\u001b[0m             \u001b[0;32mwhile\u001b[0m \u001b[0mTrue\u001b[0m\u001b[0;34m:\u001b[0m\u001b[0;34m\u001b[0m\u001b[0m\n\u001b[1;32m    479\u001b[0m                 \u001b[0;32mtry\u001b[0m\u001b[0;34m:\u001b[0m\u001b[0;34m\u001b[0m\u001b[0m\n\u001b[0;32m--> 480\u001b[0;31m                     \u001b[0mdata\u001b[0m \u001b[0;34m=\u001b[0m \u001b[0mself\u001b[0m\u001b[0;34m.\u001b[0m\u001b[0m_sock\u001b[0m\u001b[0;34m.\u001b[0m\u001b[0mrecv\u001b[0m\u001b[0;34m(\u001b[0m\u001b[0mself\u001b[0m\u001b[0;34m.\u001b[0m\u001b[0m_rbufsize\u001b[0m\u001b[0;34m)\u001b[0m\u001b[0;34m\u001b[0m\u001b[0m\n\u001b[0m\u001b[1;32m    481\u001b[0m                 \u001b[0;32mexcept\u001b[0m \u001b[0merror\u001b[0m\u001b[0;34m,\u001b[0m \u001b[0me\u001b[0m\u001b[0;34m:\u001b[0m\u001b[0;34m\u001b[0m\u001b[0m\n\u001b[1;32m    482\u001b[0m                     \u001b[0;32mif\u001b[0m \u001b[0me\u001b[0m\u001b[0;34m.\u001b[0m\u001b[0margs\u001b[0m\u001b[0;34m[\u001b[0m\u001b[0;36m0\u001b[0m\u001b[0;34m]\u001b[0m \u001b[0;34m==\u001b[0m \u001b[0mEINTR\u001b[0m\u001b[0;34m:\u001b[0m\u001b[0;34m\u001b[0m\u001b[0m\n",
      "\u001b[0;31mKeyboardInterrupt\u001b[0m: "
     ]
    }
   ],
   "source": [
    "def get_product_list(database_table,cHostname,cUsername,cPassword,cDatabase,cPort=\"3306\"):\n",
    "    mydb=mysql.connector.connect(\n",
    "    host=cHostname,\n",
    "    user=cUsername,\n",
    "    passwd=cPassword,\n",
    "    database=cDatabase,\n",
    "    port=cPort\n",
    "    )\n",
    "    mycursor = mydb.cursor()\n",
    "    sql = \"select `date`,`data_pid`,`shop_name`,`url`,`name` from {} where status = '0' group by `date`,`data_pid` desc\".format(database_table)\n",
    "    mycursor.execute(sql)\n",
    "    myresult = mycursor.fetchall()\n",
    "    return myresult\n",
    "\n",
    "def main():\n",
    "    browser = init_browser(False)\n",
    "    host=\"pixel.mynaworks.com\"\n",
    "    user=\"dev\"\n",
    "    passwd=\"dev\"\n",
    "    database=\"tkpd\"\n",
    "    port=\"8989\"\n",
    "    datas = get_product_list('product_data',host,user,passwd,database,port)\n",
    "    for row in datas:\n",
    "        date,data_pid,shop_name,url,name = row\n",
    "        print('[+] {}-{} | {}'.format(data_pid,name,url))\n",
    "        goto_URL(browser,url)\n",
    "        resp = get_page_detail(browser)\n",
    "        add_dbProduct(resp,'product_detail',host,user,passwd,database,port)\n",
    "    \n",
    "main()"
   ]
  },
  {
   "cell_type": "code",
   "execution_count": 229,
   "metadata": {},
   "outputs": [
    {
     "data": {
      "text/plain": [
       "\"we want go to' a hour\""
      ]
     },
     "execution_count": 229,
     "metadata": {},
     "output_type": "execute_result"
    }
   ],
   "source": [
    "a=\"we want go to' a hour\"\n",
    "a"
   ]
  },
  {
   "cell_type": "code",
   "execution_count": 141,
   "metadata": {},
   "outputs": [
    {
     "name": "stdout",
     "output_type": "stream",
     "text": [
      "+ Init Browser\n"
     ]
    }
   ],
   "source": [
    "browser = init_browser(False)"
   ]
  },
  {
   "cell_type": "code",
   "execution_count": 215,
   "metadata": {},
   "outputs": [],
   "source": [
    "x= browser.find_element_by_id('info').text\n",
    "x = x.encode('utf8')"
   ]
  },
  {
   "cell_type": "raw",
   "metadata": {},
   "source": []
  },
  {
   "cell_type": "code",
   "execution_count": 227,
   "metadata": {},
   "outputs": [
    {
     "ename": "SyntaxError",
     "evalue": "'return' outside function (<ipython-input-227-ba1401f73b0a>, line 1)",
     "output_type": "error",
     "traceback": [
      "\u001b[0;36m  File \u001b[0;32m\"<ipython-input-227-ba1401f73b0a>\"\u001b[0;36m, line \u001b[0;32m1\u001b[0m\n\u001b[0;31m    return [var.encode('utf8') for var in 'data',x,'coba']\u001b[0m\n\u001b[0;31mSyntaxError\u001b[0m\u001b[0;31m:\u001b[0m 'return' outside function\n"
     ]
    }
   ],
   "source": [
    "return [var.encode('utf8') for var in 'data',x,'coba']\n",
    "\n"
   ]
  },
  {
   "cell_type": "code",
   "execution_count": 136,
   "metadata": {},
   "outputs": [
    {
     "name": "stdout",
     "output_type": "stream",
     "text": [
      "Baru\n",
      "Opsional\n",
      "1\n"
     ]
    }
   ],
   "source": [
    "def get_var(vtype):\n",
    "    for x in var.find_all(class_='inline-block va-middle'):\n",
    "        temp = x.find_all('div')\n",
    "        if temp[0].text.strip().lower() == vtype.lower():\n",
    "            return temp[1].text.strip()\n",
    "            break\n",
    "    return ''\n",
    "            \n",
    "get_var('Kondisi')\n",
    "get_var('Asuransi')\n",
    "get_var('Min. Beli')"
   ]
  },
  {
   "cell_type": "code",
   "execution_count": 93,
   "metadata": {},
   "outputs": [],
   "source": [
    "x=[]\n",
    "x.append(\"\"\"('%s')\"\"\"%product_description)"
   ]
  },
  {
   "cell_type": "code",
   "execution_count": 138,
   "metadata": {},
   "outputs": [
    {
     "ename": "AttributeError",
     "evalue": "'str' object has no attribute 'prettify'",
     "output_type": "error",
     "traceback": [
      "\u001b[0;31m---------------------------------------------------------------------------\u001b[0m",
      "\u001b[0;31mAttributeError\u001b[0m                            Traceback (most recent call last)",
      "\u001b[0;32m<ipython-input-138-69973e841e2c>\u001b[0m in \u001b[0;36m<module>\u001b[0;34m()\u001b[0m\n\u001b[1;32m      1\u001b[0m \u001b[0mx\u001b[0m\u001b[0;34m=\u001b[0m\u001b[0;34m'Baterai HIPPO Blackberry BB JM-1 Dakota/Monza 9900/9860/9930 2000mAh Double Power Original Batt/Batrei JM1 2000 mAH<br/>Untuk belagio, pilih yang menggunakan backdoor tambahan<br/>ada di list produk kami :)<br/>-----------------------------------------------------------------<br/>*Ecer / Reseller / Dropshipper Welcome*<br/>:: Contact Gadzila Store ::<br/>Mobile : 08999.31.5005<br/>BB : 2b0d1ace<br/>Line : mr_tomyap<br/><a href=\"https://tkp.me/r?url=http://www.fb.com/gadzilastore\" rel=\"nofollow noopener noreferrer\" target=\"_blank\">wwwfbcom/gadzilastore</a>'\u001b[0m\u001b[0;34m\u001b[0m\u001b[0m\n\u001b[0;32m----> 2\u001b[0;31m \u001b[0;32mprint\u001b[0m \u001b[0mstr\u001b[0m\u001b[0;34m(\u001b[0m\u001b[0mx\u001b[0m\u001b[0;34m.\u001b[0m\u001b[0mprettify\u001b[0m\u001b[0;34m(\u001b[0m\u001b[0;34m)\u001b[0m\u001b[0;34m)\u001b[0m\u001b[0;34m\u001b[0m\u001b[0m\n\u001b[0m",
      "\u001b[0;31mAttributeError\u001b[0m: 'str' object has no attribute 'prettify'"
     ]
    }
   ],
   "source": [
    "x='Baterai HIPPO Blackberry BB JM-1 Dakota/Monza 9900/9860/9930 2000mAh Double Power Original Batt/Batrei JM1 2000 mAH<br/>Untuk belagio, pilih yang menggunakan backdoor tambahan<br/>ada di list produk kami :)<br/>-----------------------------------------------------------------<br/>*Ecer / Reseller / Dropshipper Welcome*<br/>:: Contact Gadzila Store ::<br/>Mobile : 08999.31.5005<br/>BB : 2b0d1ace<br/>Line : mr_tomyap<br/><a href=\"https://tkp.me/r?url=http://www.fb.com/gadzilastore\" rel=\"nofollow noopener noreferrer\" target=\"_blank\">wwwfbcom/gadzilastore</a>'\n",
    "print str(x.prettify())"
   ]
  },
  {
   "cell_type": "code",
   "execution_count": null,
   "metadata": {},
   "outputs": [],
   "source": []
  }
 ],
 "metadata": {
  "kernelspec": {
   "display_name": "Python 2",
   "language": "python",
   "name": "python2"
  },
  "language_info": {
   "codemirror_mode": {
    "name": "ipython",
    "version": 2
   },
   "file_extension": ".py",
   "mimetype": "text/x-python",
   "name": "python",
   "nbconvert_exporter": "python",
   "pygments_lexer": "ipython2",
   "version": "2.7.15"
  }
 },
 "nbformat": 4,
 "nbformat_minor": 2
}
