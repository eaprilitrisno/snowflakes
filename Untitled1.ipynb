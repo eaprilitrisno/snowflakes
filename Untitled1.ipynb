{
 "cells": [
  {
   "cell_type": "code",
   "execution_count": 1,
   "metadata": {},
   "outputs": [
    {
     "name": "stdout",
     "output_type": "stream",
     "text": [
      "Link antigores miband bening (bukan tempered)https://www.tokopedia.com/gadzilastore/antigores-xiaomi-miband-2-screen-guard-bening-bukan-tempered==============READY STOCK !! Langsung order gan :)Xiaomi Mi Band 2 Original Smart Bracelet (Warna Hitam)GARANSI 3 HARI sejak barang sampai !!Specs :- Battery : 70 mAh, Lithium polymer, 20 days battery life- Weight : 7.0 g- Water Resistant : IP67 Standards- Display : 0.42\" OLED Display- 2nd Gen Bluetooth 4.0- ADI ultra-low power acceleration sensors & Photoelectric sensors- Strap Size : 235 mm total length- 155 - 210 mm adjustable length- Made of Thermoplastic elastomers, aluminium- Compatibility : Requires Bluetooth 4.0, Android 4.4 or iOS 7.0 and above,- iOS 7.0 or later: iPhone 4s / 5 / 5c / 5s / 6/6 Plus / 6s / 6s Plus / SE\n"
     ]
    }
   ],
   "source": [
    "print ('Link antigores miband bening (bukan tempered)https://www.tokopedia.com/gadzilastore/antigores-xiaomi-miband-2-screen-guard-bening-bukan-tempered==============READY STOCK !! Langsung order gan :)Xiaomi Mi Band 2 Original Smart Bracelet (Warna Hitam)GARANSI 3 HARI sejak barang sampai !!Specs :- Battery : 70 mAh, Lithium polymer, 20 days battery life- Weight : 7.0 g- Water Resistant : IP67 Standards- Display : 0.42\" OLED Display- 2nd Gen Bluetooth 4.0- ADI ultra-low power acceleration sensors & Photoelectric sensors- Strap Size : 235 mm total length- 155 - 210 mm adjustable length- Made of Thermoplastic elastomers, aluminium- Compatibility : Requires Bluetooth 4.0, Android 4.4 or iOS 7.0 and above,- iOS 7.0 or later: iPhone 4s / 5 / 5c / 5s / 6/6 Plus / 6s / 6s Plus / SE')"
   ]
  },
  {
   "cell_type": "code",
   "execution_count": null,
   "metadata": {},
   "outputs": [],
   "source": []
  }
 ],
 "metadata": {
  "kernelspec": {
   "display_name": "Python 2",
   "language": "python",
   "name": "python2"
  },
  "language_info": {
   "codemirror_mode": {
    "name": "ipython",
    "version": 2
   },
   "file_extension": ".py",
   "mimetype": "text/x-python",
   "name": "python",
   "nbconvert_exporter": "python",
   "pygments_lexer": "ipython2",
   "version": "2.7.15"
  }
 },
 "nbformat": 4,
 "nbformat_minor": 2
}
